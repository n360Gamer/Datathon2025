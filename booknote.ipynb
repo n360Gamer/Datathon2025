{
 "cells": [
  {
   "cell_type": "code",
   "execution_count": 1,
   "id": "cf8fc725",
   "metadata": {},
   "outputs": [
    {
     "name": "stdout",
     "output_type": "stream",
     "text": [
      "        isic_id  target  patient_id  age_approx   sex anatom_site_general  \\\n",
      "0  ISIC_0015670       0  IP_1235828        60.0  male     lower extremity   \n",
      "1  ISIC_0015845       0  IP_8170065        60.0  male           head/neck   \n",
      "2  ISIC_0015864       0  IP_6724798        60.0  male     posterior torso   \n",
      "3  ISIC_0015902       0  IP_4111386        65.0  male      anterior torso   \n",
      "4  ISIC_0024200       0  IP_8313778        55.0  male      anterior torso   \n",
      "\n",
      "   clin_size_long_diam_mm          image_type tbp_tile_type   tbp_lv_A  ...  \\\n",
      "0                    3.04  TBP tile: close-up     3D: white  20.244422  ...   \n",
      "1                    1.10  TBP tile: close-up     3D: white  31.712570  ...   \n",
      "2                    3.40  TBP tile: close-up        3D: XP  22.575830  ...   \n",
      "3                    3.22  TBP tile: close-up        3D: XP  14.242329  ...   \n",
      "4                    2.73  TBP tile: close-up     3D: white  24.725520  ...   \n",
      "\n",
      "    lesion_id  iddx_full  iddx_1  iddx_2  iddx_3  iddx_4  iddx_5  \\\n",
      "0         NaN     Benign  Benign     NaN     NaN     NaN     NaN   \n",
      "1  IL_6727506     Benign  Benign     NaN     NaN     NaN     NaN   \n",
      "2         NaN     Benign  Benign     NaN     NaN     NaN     NaN   \n",
      "3         NaN     Benign  Benign     NaN     NaN     NaN     NaN   \n",
      "4         NaN     Benign  Benign     NaN     NaN     NaN     NaN   \n",
      "\n",
      "   mel_mitotic_index  mel_thick_mm  tbp_lv_dnn_lesion_confidence  \n",
      "0                NaN           NaN                     97.517282  \n",
      "1                NaN           NaN                      3.141455  \n",
      "2                NaN           NaN                     99.804040  \n",
      "3                NaN           NaN                     99.989998  \n",
      "4                NaN           NaN                     70.442510  \n",
      "\n",
      "[5 rows x 55 columns]\n"
     ]
    },
    {
     "name": "stderr",
     "output_type": "stream",
     "text": [
      "/var/folders/_x/wmb0s3x168x9ps98yhxrdw940000gn/T/ipykernel_19284/2593763088.py:15: DtypeWarning: Columns (51,52) have mixed types. Specify dtype option on import or set low_memory=False.\n",
      "  training_data = pd.read_csv('isic-2024-challenge/train-metadata.csv')\n"
     ]
    }
   ],
   "source": [
    "# imports\n",
    "import pandas as pd\n",
    "import numpy as np\n",
    "\n",
    "from typing import List, Tuple\n",
    "import matplotlib.pyplot as plt\n",
    "import math\n",
    "\n",
    "from sklearn.datasets import fetch_openml\n",
    "from sklearn.neighbors import KNeighborsClassifier, NearestCentroid\n",
    "from sklearn.metrics import accuracy_score, confusion_matrix, ConfusionMatrixDisplay\n",
    "from sklearn.model_selection import train_test_split\n",
    "from sklearn.inspection import DecisionBoundaryDisplay\n",
    "\n",
    "training_data = pd.read_csv('isic-2024-challenge/train-metadata.csv')\n",
    "print(training_data.head())"
   ]
  }
 ],
 "metadata": {
  "kernelspec": {
   "display_name": "cs178",
   "language": "python",
   "name": "python3"
  },
  "language_info": {
   "codemirror_mode": {
    "name": "ipython",
    "version": 3
   },
   "file_extension": ".py",
   "mimetype": "text/x-python",
   "name": "python",
   "nbconvert_exporter": "python",
   "pygments_lexer": "ipython3",
   "version": "3.10.13"
  }
 },
 "nbformat": 4,
 "nbformat_minor": 5
}
